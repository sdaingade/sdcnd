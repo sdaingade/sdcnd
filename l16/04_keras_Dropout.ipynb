{
 "cells": [
  {
   "cell_type": "markdown",
   "metadata": {},
   "source": [
    "Dropout\n",
    "\n",
    "    Build from the previous network.\n",
    "    Add a dropout layer after the pooling layer. Set the dropout rate to 50%.\n",
    "    Make sure to note from the documentation above that the rate specified for dropout in Keras is the opposite of TensorFlow! TensorFlow uses the probability to keep nodes, while Keras uses the probability to drop them.\n",
    "\n",
    "Pooling\n",
    "\n",
    "    Build from the previous network\n",
    "    Add a 2x2 max pooling layer immediately following your convolutional layer.\n",
    "    Train for 3 epochs again. You should be able to get over 50% training accuracy.\n",
    "\n",
    "Convolutions\n",
    "\n",
    "    Build from the previous network.\n",
    "    Add a convolutional layer with 32 filters, a 3x3 kernel, and valid padding before the flatten layer.\n",
    "    Add a ReLU activation after the convolutional layer.\n",
    "    Train for 3 epochs again, should be able to get over 50% accuracy.\n",
    "\n",
    "Hint: The Keras example of a convolutional neural network for MNIST would be a good example to review.\n",
    "\n",
    "In this quiz you will build a multi-layer feedforward neural network to classify traffic sign images using Keras.\n",
    "\n",
    "    Set the first layer to a Flatten() layer with the input_shape set to (32, 32, 3).\n",
    "    Set the second layer to a Dense() layer with an output width of 128.\n",
    "    Use a ReLU activation function after the second layer.\n",
    "    Set the output layer width to 5, because for this data set there are only 5 classes.\n",
    "    Use a softmax activation function after the output layer.\n",
    "    Train the model for 3 epochs. You should be able to get over 50% training accuracy."
   ]
  },
  {
   "cell_type": "code",
   "execution_count": 1,
   "metadata": {},
   "outputs": [],
   "source": [
    "import pickle\n",
    "import numpy as np\n",
    "import tensorflow as tf\n",
    "\n",
    "# Load pickled data\n",
    "with open('small_train_traffic.p', mode='rb') as f:\n",
    "    data = pickle.load(f)"
   ]
  },
  {
   "cell_type": "code",
   "execution_count": 2,
   "metadata": {},
   "outputs": [],
   "source": [
    "# split the data\n",
    "X_train, y_train = data['features'], data['labels']"
   ]
  },
  {
   "cell_type": "code",
   "execution_count": 3,
   "metadata": {},
   "outputs": [
    {
     "name": "stderr",
     "output_type": "stream",
     "text": [
      "Using TensorFlow backend.\n"
     ]
    }
   ],
   "source": [
    "# Setup Keras\n",
    "from keras.models import Sequential\n",
    "from keras.layers.core import Dense, Activation, Flatten, Dropout\n",
    "from keras.layers.convolutional import Conv2D\n",
    "from keras.layers.pooling import MaxPooling2D"
   ]
  },
  {
   "cell_type": "code",
   "execution_count": 5,
   "metadata": {},
   "outputs": [],
   "source": [
    "# TODO: Build Convolutional Pooling Neural Network with Dropout in Keras Here\n",
    "model = Sequential()\n",
    "\n",
    "model.add(Conv2D(32, kernel_size=(3, 3), padding='valid', input_shape=(32,32,3)))\n",
    "\n",
    "model.add(MaxPooling2D(pool_size=(2, 2)))\n",
    "\n",
    "model.add(Dropout(0.5))\n",
    "\n",
    "model.add(Activation('relu'))\n",
    "\n",
    "model.add(Flatten())\n",
    "\n",
    "model.add(Dense(128))\n",
    "\n",
    "model.add(Activation('relu'))\n",
    "\n",
    "model.add(Dense(5))\n",
    "\n",
    "model.add(Activation('relu'))\n"
   ]
  },
  {
   "cell_type": "code",
   "execution_count": 6,
   "metadata": {},
   "outputs": [],
   "source": [
    "# preprocess data\n",
    "X_normalized = np.array(X_train / 255.0 - 0.5 )\n",
    "\n",
    "from sklearn.preprocessing import LabelBinarizer\n",
    "label_binarizer = LabelBinarizer()\n",
    "y_one_hot = label_binarizer.fit_transform(y_train)"
   ]
  },
  {
   "cell_type": "code",
   "execution_count": 7,
   "metadata": {},
   "outputs": [
    {
     "name": "stdout",
     "output_type": "stream",
     "text": [
      "Train on 80 samples, validate on 20 samples\n",
      "Epoch 1/3\n",
      "80/80 [==============================] - 1s 7ms/step - loss: 1.7270 - acc: 0.4375 - val_loss: 0.6659 - val_acc: 0.6500\n",
      "Epoch 2/3\n",
      "80/80 [==============================] - 0s 3ms/step - loss: 0.7467 - acc: 0.5250 - val_loss: 0.5333 - val_acc: 0.7000\n",
      "Epoch 3/3\n",
      "80/80 [==============================] - 0s 3ms/step - loss: 0.6647 - acc: 0.5625 - val_loss: 0.4703 - val_acc: 0.7500\n"
     ]
    }
   ],
   "source": [
    "# compile and fit model\n",
    "model.compile('adam', 'categorical_crossentropy', ['accuracy'])\n",
    "history = model.fit(X_normalized, y_one_hot, epochs=3, validation_split=0.2)"
   ]
  },
  {
   "cell_type": "code",
   "execution_count": 8,
   "metadata": {},
   "outputs": [
    {
     "name": "stdout",
     "output_type": "stream",
     "text": [
      "Nice work!\n",
      "Looks good!\n",
      "\n"
     ]
    }
   ],
   "source": [
    "### DON'T MODIFY ANYTHING BELOW ###\n",
    "### Be sure to run all cells above before running this cell ###\n",
    "import grader\n",
    "\n",
    "try:\n",
    "    grader.run_grader(model, history)\n",
    "except Exception as err:\n",
    "    print(str(err))"
   ]
  },
  {
   "cell_type": "code",
   "execution_count": null,
   "metadata": {},
   "outputs": [],
   "source": []
  }
 ],
 "metadata": {
  "kernelspec": {
   "display_name": "Python 3",
   "language": "python",
   "name": "python3"
  },
  "language_info": {
   "codemirror_mode": {
    "name": "ipython",
    "version": 3
   },
   "file_extension": ".py",
   "mimetype": "text/x-python",
   "name": "python",
   "nbconvert_exporter": "python",
   "pygments_lexer": "ipython3",
   "version": "3.6.3"
  }
 },
 "nbformat": 4,
 "nbformat_minor": 2
}
